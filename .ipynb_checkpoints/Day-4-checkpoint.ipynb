{
 "cells": [
  {
   "cell_type": "markdown",
   "metadata": {},
   "source": [
    "Question 1 :\n",
    "Research on whether addition, subtraction, multiplication, division, floor division and modulo\n",
    "operations be performed on complex numbers. Based on your study, implement a Python\n",
    "program to demonstrate these operations."
   ]
  },
  {
   "cell_type": "code",
   "execution_count": 5,
   "metadata": {},
   "outputs": [
    {
     "name": "stdout",
     "output_type": "stream",
     "text": [
      "Addition (3+5j)\n",
      "Subtraction (1+1j)\n",
      "Multiplication (-4+7j)\n",
      "Div (1.6-0.2j)\n"
     ]
    }
   ],
   "source": [
    "z1 = complex(2,3)\n",
    "z2 = complex(1,2)\n",
    "\n",
    "print(\"Addition\", z1+z2)\n",
    "print(\"Subtraction\", z1-z2)\n",
    "print(\"Multiplication\", z1*z2)\n",
    "print(\"Div\", z1/z2)\n",
    "\n",
    "#Can't Floor Div complex nums\n",
    "#print(\"Floor Div\", z1//z2)\n",
    "#Can't Mod complex nums\n",
    "#print(\"Modulo\", z1%z2)\n"
   ]
  },
  {
   "cell_type": "markdown",
   "metadata": {},
   "source": [
    "Question 2 :\n",
    "Research on range() functions and its parameters. Create a markdown cell and write in your own\n",
    "words (no copy-paste from google please) what you understand about it. Implement a small\n",
    "program of your choice on the same."
   ]
  },
  {
   "cell_type": "code",
   "execution_count": 13,
   "metadata": {},
   "outputs": [
    {
     "name": "stdout",
     "output_type": "stream",
     "text": [
      "3\n",
      "4\n",
      "5\n",
      "one\n",
      "two\n",
      "three\n",
      "four\n",
      "five\n"
     ]
    }
   ],
   "source": [
    "# Range(start-optional-default=0 , stop-Required, step-optional-Default=1)\n",
    "# it generates a list of numbers, which is generally used to iterate over with for loops. \n",
    "# All parameters must be integers.\n",
    "# All parameters can be positive or negative.\n",
    "\n",
    "y = range(3, 6)\n",
    "for t in y:\n",
    "  print(t)\n",
    "\n",
    "\n",
    "my_list = ['one', 'two', 'three', 'four', 'five']\n",
    "my_list_len = len(my_list)\n",
    "for i in range(0, my_list_len):\n",
    "    print(my_list[i])"
   ]
  },
  {
   "cell_type": "markdown",
   "metadata": {},
   "source": [
    "Question 3:\n",
    " Consider two numbers. Perform their subtraction and if the result of subtraction is greater than\n",
    "25, print their multiplication result else print their division result."
   ]
  },
  {
   "cell_type": "code",
   "execution_count": 15,
   "metadata": {},
   "outputs": [
    {
     "name": "stdout",
     "output_type": "stream",
     "text": [
      "1500\n"
     ]
    }
   ],
   "source": [
    "x = 150\n",
    "y = 10\n",
    "\n",
    "sub = x-y\n",
    "if(sub>25):\n",
    "    print(x*y)\n",
    "else:\n",
    "    print(x/y)\n"
   ]
  },
  {
   "cell_type": "markdown",
   "metadata": {},
   "source": [
    "Question 4:\n",
    "Consider a list of 10 elements of integer values. If the number in the list is divisible by 2, print the\n",
    "result as \"square of that number minus 2\"."
   ]
  },
  {
   "cell_type": "code",
   "execution_count": 31,
   "metadata": {},
   "outputs": [
    {
     "name": "stdout",
     "output_type": "stream",
     "text": [
      "2\n",
      "142\n",
      "482\n",
      "1934\n",
      "34\n",
      "62\n",
      "98\n"
     ]
    }
   ],
   "source": [
    "list1 = [1, 2, 12, 22, 33, 44, 55, 6, 8, 10]\n",
    "\n",
    "for i in list1:\n",
    "    #print(i)\n",
    "    if(i%2==0):\n",
    "        print(i*i-2)"
   ]
  },
  {
   "cell_type": "markdown",
   "metadata": {},
   "source": [
    "Question 5:\n",
    "Consider a list of 10 elements. Print all the elements in the list which are greater than 7 when that\n",
    "number is divided 2."
   ]
  },
  {
   "cell_type": "code",
   "execution_count": 34,
   "metadata": {},
   "outputs": [
    {
     "name": "stdout",
     "output_type": "stream",
     "text": [
      "12\n",
      "22\n",
      "44\n",
      "8\n",
      "10\n"
     ]
    }
   ],
   "source": [
    "list1 = [1, 2, 12, 22, 33, 44, 55, 6, 8, 10]\n",
    "\n",
    "for i in list1:\n",
    "    if(i%2==0 and i>7):\n",
    "        print(i)"
   ]
  }
 ],
 "metadata": {
  "kernelspec": {
   "display_name": "Python 3",
   "language": "python",
   "name": "python3"
  },
  "language_info": {
   "codemirror_mode": {
    "name": "ipython",
    "version": 3
   },
   "file_extension": ".py",
   "mimetype": "text/x-python",
   "name": "python",
   "nbconvert_exporter": "python",
   "pygments_lexer": "ipython3",
   "version": "3.7.3"
  }
 },
 "nbformat": 4,
 "nbformat_minor": 4
}
