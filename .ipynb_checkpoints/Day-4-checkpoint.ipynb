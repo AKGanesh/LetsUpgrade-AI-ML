{
 "cells": [
  {
   "cell_type": "markdown",
   "metadata": {},
   "source": [
    "Question 1 :\n",
    "Research on whether addition, subtraction, multiplication, division, floor division and modulo\n",
    "operations be performed on complex numbers. Based on your study, implement a Python\n",
    "program to demonstrate these operations."
   ]
  },
  {
   "cell_type": "markdown",
   "metadata": {},
   "source": [
    "Question 2 :\n",
    "Research on range() functions and its parameters. Create a markdown cell and write in your own\n",
    "words (no copy-paste from google please) what you understand about it. Implement a small\n",
    "program of your choice on the same."
   ]
  },
  {
   "cell_type": "markdown",
   "metadata": {},
   "source": [
    "Question 3:\n",
    " Consider two numbers. Perform their subtraction and if the result of subtraction is greater than\n",
    "25, print their multiplication result else print their division result."
   ]
  },
  {
   "cell_type": "markdown",
   "metadata": {},
   "source": [
    "Question 4:\n",
    "Consider a list of 10 elements of integer values. If the number in the list is divisible by 2, print the\n",
    "result as \"square of that number minus 2\"."
   ]
  },
  {
   "cell_type": "markdown",
   "metadata": {},
   "source": [
    "Question 5:\n",
    "Consider a list of 10 elements. Print all the elements in the list which are greater than 7 when that\n",
    "number is divided 2."
   ]
  },
  {
   "cell_type": "code",
   "execution_count": null,
   "metadata": {},
   "outputs": [],
   "source": []
  }
 ],
 "metadata": {
  "kernelspec": {
   "display_name": "Python 3",
   "language": "python",
   "name": "python3"
  },
  "language_info": {
   "codemirror_mode": {
    "name": "ipython",
    "version": 3
   },
   "file_extension": ".py",
   "mimetype": "text/x-python",
   "name": "python",
   "nbconvert_exporter": "python",
   "pygments_lexer": "ipython3",
   "version": "3.7.3"
  }
 },
 "nbformat": 4,
 "nbformat_minor": 4
}
